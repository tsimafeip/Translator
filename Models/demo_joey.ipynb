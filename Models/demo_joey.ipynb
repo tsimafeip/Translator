{
  "nbformat": 4,
  "nbformat_minor": 0,
  "metadata": {
    "colab": {
      "name": "demo_joey.ipynb",
      "provenance": [],
      "collapsed_sections": []
    },
    "kernelspec": {
      "display_name": "Python 3",
      "name": "python3"
    }
  },
  "cells": [
    {
      "cell_type": "code",
      "metadata": {
        "colab": {
          "base_uri": "https://localhost:8080/"
        },
        "id": "pIqLszY09IT9",
        "outputId": "98a4658b-7e99-480b-f02d-e173a6a4ebfd"
      },
      "source": [
        "import os\r\n",
        "\r\n",
        "if not os.path.isdir(\"/content/Separate Corpuses/FullCorpus/\") or not os.path.isdir(\"/joey_experiments/\"):\r\n",
        "    !gsutil -m cp -r \"gs://mytranslator-298419-vcm/RuBeCorpus_BelapanNews/Separate Corpuses/FullCorpus/\" .\r\n",
        "    !gsutil -m cp -r \"gs://mytranslator-298419-vcm/joey_experiments/\" ."
      ],
      "execution_count": null,
      "outputs": [
        {
          "output_type": "stream",
          "text": [
            "Copying gs://mytranslator-298419-vcm/RuBeCorpus_BelapanNews/Separate Corpuses/FullCorpus/Corpus_Bel.txt...\n",
            "/ [0/8 files][    0.0 B/651.5 MiB]   0% Done                                    \rCopying gs://mytranslator-298419-vcm/RuBeCorpus_BelapanNews/Separate Corpuses/FullCorpus/Corpus_Bel.txt_tc.model...\n",
            "/ [0/8 files][    0.0 B/651.5 MiB]   0% Done                                    \rCopying gs://mytranslator-298419-vcm/RuBeCorpus_BelapanNews/Separate Corpuses/FullCorpus/Corpus_Rus.txt_tc.model...\n",
            "/ [0/8 files][    0.0 B/651.5 MiB]   0% Done                                    \rCopying gs://mytranslator-298419-vcm/RuBeCorpus_BelapanNews/Separate Corpuses/FullCorpus/Corpus_Bel.txt_tok.txt...\n",
            "/ [0/8 files][    0.0 B/651.5 MiB]   0% Done                                    \rCopying gs://mytranslator-298419-vcm/RuBeCorpus_BelapanNews/Separate Corpuses/FullCorpus/Corpus_Bel.txt_tok.txt_true.txt...\n",
            "/ [0/8 files][    0.0 B/651.5 MiB]   0% Done                                    \rCopying gs://mytranslator-298419-vcm/RuBeCorpus_BelapanNews/Separate Corpuses/FullCorpus/Corpus_Rus.txt...\n",
            "/ [0/8 files][    0.0 B/651.5 MiB]   0% Done                                    \rCopying gs://mytranslator-298419-vcm/RuBeCorpus_BelapanNews/Separate Corpuses/FullCorpus/Corpus_Rus.txt_tok.txt...\n",
            "Copying gs://mytranslator-298419-vcm/RuBeCorpus_BelapanNews/Separate Corpuses/FullCorpus/Corpus_Rus.txt_tok.txt_true.txt...\n",
            "- [8/8 files][651.5 MiB/651.5 MiB] 100% Done                                    \n",
            "Operation completed over 8 objects/651.5 MiB.                                    \n",
            "Copying gs://mytranslator-298419-vcm/joey_experiments/ru-be-new_full/data/bpe.codes.5000...\n",
            "Copying gs://mytranslator-298419-vcm/joey_experiments/ru-be-new_full/data/dev.bpe.be...\n",
            "Copying gs://mytranslator-298419-vcm/joey_experiments/ru-be-new_full/data/dev.bpe.ru...\n",
            "Copying gs://mytranslator-298419-vcm/joey_experiments/ru-be-new_full/data/train.bpe.be...\n",
            "Copying gs://mytranslator-298419-vcm/joey_experiments/ru-be-new_full/data/test.bpe.be...\n",
            "Copying gs://mytranslator-298419-vcm/joey_experiments/ru-be-new_full/data/vocab.ru...\n",
            "Copying gs://mytranslator-298419-vcm/joey_experiments/ru-be-new_full/data/vocab.be...\n",
            "Copying gs://mytranslator-298419-vcm/joey_experiments/ru-be-new_full/data/train.bpe.ru...\n",
            "Copying gs://mytranslator-298419-vcm/joey_experiments/ru-be-new_full/data/test.bpe.ru...\n",
            "Copying gs://mytranslator-298419-vcm/joey_experiments/ru-be-new_full/data/vocab.txt...\n",
            "Copying gs://mytranslator-298419-vcm/joey_experiments/ru-be-new_full/models/best.ckpt...\n",
            "Copying gs://mytranslator-298419-vcm/joey_experiments/ru-be-new_full/models/config.yaml...\n",
            "Copying gs://mytranslator-298419-vcm/joey_experiments/ru-be-new_full/models/config_non_cuda.yaml...\n",
            "\\ [13/13 files][412.3 MiB/412.3 MiB] 100% Done                                  \n",
            "Operation completed over 13 objects/412.3 MiB.                                   \n"
          ],
          "name": "stdout"
        }
      ]
    },
    {
      "cell_type": "code",
      "metadata": {
        "colab": {
          "base_uri": "https://localhost:8080/"
        },
        "id": "Cz1REQDJABAD",
        "outputId": "f6b42d3d-f412-415b-bf96-8c27d8b1d32a"
      },
      "source": [
        "source_language = \"ru\"\n",
        "target_language = \"be\"\n",
        "lang_pair = source_language+target_language\n",
        "tag = \"new_full\"\n",
        "model_type = \"bpe\"\n",
        "\n",
        "use_cuda = False\n",
        "\n",
        "if model_type == \"bpe\":\n",
        "    # Learn BPEs on the training data.\n",
        "    number_of_splits = 5000\n",
        "    os.environ[\"data_path\"] = os.path.join(\"joeynmt\", \"data\", source_language + target_language)\n",
        "    bpe_codes_file = \"bpe.codes.\"+str(number_of_splits)\n",
        "\n",
        "os.environ[\"src\"] = source_language # Sets them in bash as well, since we often use bash scripts\n",
        "os.environ[\"tgt\"] = target_language\n",
        "os.environ[\"lang_pair\"] = lang_pair\n",
        "os.environ[\"tag\"] = tag\n",
        "os.environ[\"model_type\"] = model_type\n",
        "\n",
        "gdrive_path = \"/content/joey_experiments/%s-%s-%s\" % (source_language, target_language, tag)\n",
        "os.environ[\"gdrive_path\"] = gdrive_path\n",
        "!echo $gdrive_path"
      ],
      "execution_count": null,
      "outputs": [
        {
          "output_type": "stream",
          "text": [
            "/content/joey_experiments/ru-be-new_full\n"
          ],
          "name": "stdout"
        }
      ]
    },
    {
      "cell_type": "code",
      "metadata": {
        "colab": {
          "base_uri": "https://localhost:8080/"
        },
        "id": "YtyNflSkCl0-",
        "outputId": "4193fdd8-1057-4d75-b071-e64feb6fbc5e"
      },
      "source": [
        "raw_source_file = r\"/content/FullCorpus/Corpus_Rus.txt\"\n",
        "raw_target_file = r\"/content/FullCorpus/Corpus_Bel.txt\"\n",
        "\n",
        "# They should both have the same length.\n",
        "! wc -l \"$raw_source_file\"\n",
        "! wc -l \"$raw_target_file\""
      ],
      "execution_count": null,
      "outputs": [
        {
          "output_type": "stream",
          "text": [
            "429479 /content/FullCorpus/Corpus_Rus.txt\n",
            "429479 /content/FullCorpus/Corpus_Bel.txt\n"
          ],
          "name": "stdout"
        }
      ]
    },
    {
      "cell_type": "code",
      "metadata": {
        "id": "iqdEumRjUuNG"
      },
      "source": [
        "%%capture\n",
        "! pip install sacremoses"
      ],
      "execution_count": null,
      "outputs": []
    },
    {
      "cell_type": "code",
      "metadata": {
        "id": "MYcEmGKuTXf0"
      },
      "source": [
        "def preprocess(filepath, language, force_preprocess=False, pretrained_tc_model=None):\n",
        "  tok_file = filepath+\"_tok.txt\"\n",
        "  tc_model = pretrained_tc_model if pretrained_tc_model else filepath+\"_tc.model\"\n",
        "  truecased_file = tok_file+\"_true.txt\"\n",
        "\n",
        "  if force_preprocess:\n",
        "    ! sed -i 's/\"//g' \"$filepath\"\n",
        "    ! sacremoses tokenize -l language -e 'utf-8' < \"$filepath\" > \"$tok_file\"\n",
        "    if not pretrained_tc_model:\n",
        "      ! sacremoses train-truecase -m \"$tc_model\" -j 4 < \"$tok_file\"\n",
        "    ! sacremoses truecase -m \"$tc_model\" -j 4 < \"$tok_file\" > \"$truecased_file\"\n",
        "\n",
        "  return truecased_file, tc_model"
      ],
      "execution_count": null,
      "outputs": []
    },
    {
      "cell_type": "code",
      "metadata": {
        "id": "W_9CZwEccDeT"
      },
      "source": [
        "# Change the pointers to our files such that we continue to work with the tokenized and truecased data.\n",
        "source_file, source_tc_model = preprocess(raw_source_file, source_language)\n",
        "target_file, target_tc_model = preprocess(raw_target_file, target_language)"
      ],
      "execution_count": null,
      "outputs": []
    },
    {
      "cell_type": "code",
      "metadata": {
        "id": "IX6AsQDypMMP"
      },
      "source": [
        "%%capture\n",
        "# installing cuda\n",
        "if use_cuda:\n",
        "    !wget https://developer.download.nvidia.com/compute/cuda/repos/ubuntu1804/x86_64/cuda-ubuntu1804.pin\n",
        "    !sudo mv cuda-ubuntu1804.pin /etc/apt/preferences.d/cuda-repository-pin-600\n",
        "    !sudo apt-key adv --fetch-keys https://developer.download.nvidia.com/compute/cuda/repos/ubuntu1804/x86_64/7fa2af80.pub\n",
        "    !sudo add-apt-repository \"deb http://developer.download.nvidia.com/compute/cuda/repos/ubuntu1804/x86_64/ /\"\n",
        "    !sudo apt-get update\n",
        "    !sudo apt-get -y install cuda"
      ],
      "execution_count": null,
      "outputs": []
    },
    {
      "cell_type": "code",
      "metadata": {
        "id": "Ku1Ws7IE6pdL"
      },
      "source": [
        "# Install JoeyNMT\n",
        "%%capture\n",
        "! git clone https://github.com/joeynmt/joeynmt.git\n",
        "! cd joeynmt; pip3 install ."
      ],
      "execution_count": null,
      "outputs": []
    },
    {
      "cell_type": "code",
      "metadata": {
        "colab": {
          "base_uri": "https://localhost:8080/"
        },
        "id": "b1GuIR88g3p_",
        "outputId": "70008246-b230-4a7d-e700-a08eef00cd14"
      },
      "source": [
        "! cd joeynmt; python3 -m unittest"
      ],
      "execution_count": null,
      "outputs": [
        {
          "output_type": "stream",
          "text": [
            "................................s.......................\n",
            "----------------------------------------------------------------------\n",
            "Ran 56 tests in 1.159s\n",
            "\n",
            "OK (skipped=1)\n"
          ],
          "name": "stdout"
        }
      ]
    },
    {
      "cell_type": "code",
      "metadata": {
        "id": "Rzx_OGVZIt4G"
      },
      "source": [
        "!mkdir -p joeynmt/models/${src}${tgt}_transformer_new/ && cp -r \"$gdrive_path/models/\"* joeynmt/models/${src}${tgt}_transformer_new/\n",
        "!mkdir -p joeynmt/data/${src}${tgt}/ && cp -r \"$gdrive_path/data/\"* joeynmt/data/${src}${tgt}/\n",
        "!cp -r joeynmt/data/${src}${tgt}/{bpe.codes.5000,vocab.ru} ./"
      ],
      "execution_count": null,
      "outputs": []
    },
    {
      "cell_type": "code",
      "metadata": {
        "id": "yYbu7qqNb4ZF"
      },
      "source": [
        "# # Test our model\n",
        "# ! cd joeynmt; python3 -m joeynmt test \"$gdrive_path/models/config.yaml\" --output_path \"$gdrive_path/models/predictions\""
      ],
      "execution_count": null,
      "outputs": []
    },
    {
      "cell_type": "code",
      "metadata": {
        "id": "Bwk1hogjNFmF"
      },
      "source": [
        "def interactive_translate(text):\n",
        "  os.environ[\"config\"] = \"config.yaml\" if use_cuda else \"config_non_cuda.yaml\"\n",
        "  ! echo \"$text\" | sacremoses tokenize | sacremoses truecase -m \"$source_tc_model\" | subword-nmt apply-bpe -c \"$bpe_codes_file\" --vocabulary vocab.$source_language > \"joeynmt/in.txt\"\n",
        "  ! cd joeynmt; python3 -m joeynmt translate \"$gdrive_path/models/$config\" < in.txt 2> /dev/null | sacremoses detruecase 2> /dev/null | sacremoses detokenize 2> /dev/null | sed \"s/ '/'/\""
      ],
      "execution_count": null,
      "outputs": []
    },
    {
      "cell_type": "code",
      "metadata": {
        "colab": {
          "base_uri": "https://localhost:8080/"
        },
        "id": "cbdm6L7sndJk",
        "outputId": "427b0ed7-2ca2-45f4-c6e1-44c993377311"
      },
      "source": [
        "interactive_translate(\"Как объяснили медработники, сделано для того, чтобы защитить стены от возможных ударов каталок.\")\n",
        "interactive_translate(\"Также на первом этаже расположены различные диагностические службы.\")\n",
        "interactive_translate(\"Например кабинет компьютерной томографии.\")\n",
        "interactive_translate(\"Аппарат, с помощью которого проводят это информативное высокотехнологичное исследование, самый современный.\")\n",
        "interactive_translate(\"Рядом - изотопная лаборатория, где выполняют радионуклидную диагностику.\")"
      ],
      "execution_count": null,
      "outputs": [
        {
          "output_type": "stream",
          "text": [
            "Як растлумачылі медработнікі, зроблена для таго, каб абараніць сцены ад магчымых удараў каталок.\n",
            "Таксама на першым паверсе размешчаны розныя дыягнастычныя службы.\n",
            "Напрыклад кабінет камп'ютарнай тамаграфіі.\n",
            "Апарат, з дапамогай якога праводзяць гэта інфарматыўнае высокатэхналагічнае даследаванне, самы сучасны.\n",
            "Побач — ізатопная лабараторыя, дзе выконваюць радыёнуклідную дыягнастыку.\n"
          ],
          "name": "stdout"
        }
      ]
    },
    {
      "cell_type": "code",
      "metadata": {
        "id": "rZZTND06D4mh"
      },
      "source": [
        "# # use_cuda = true is strongly recommended for file translation!\n",
        "# def file_translate(file):\n",
        "#   os.environ[\"config\"] = \"config.yaml\" if use_cuda else \"config_non_cuda.yaml\"\n",
        "#   ! sacremoses tokenize < \"$file\" | sacremoses truecase -m \"$source_tc_model\" | subword-nmt apply-bpe -c \"$bpe_codes_file\" --vocabulary vocab.$source_language > \"joeynmt/in.txt\"\n",
        "#   ! cd joeynmt; python3 -m joeynmt translate \"$gdrive_path/models/$config\" < in.txt 2> /dev/null | sacremoses detruecase 2> /dev/null | sacremoses detokenize 2> /dev/null | sed \"s/ '/'/\" > joey_pred.txt"
      ],
      "execution_count": null,
      "outputs": []
    },
    {
      "cell_type": "code",
      "metadata": {
        "id": "bykptFiU_rSw"
      },
      "source": [
        "# folder = f'{gdrive_path}/data/data_test/TestDatasets/AntonTestData'\n",
        "# in_file_name = \"2016-03_ru.txt\"\n",
        "# in_filepath = f'{folder}/{in_file_name}'\n",
        "# file_translate(in_filepath)"
      ],
      "execution_count": null,
      "outputs": []
    },
    {
      "cell_type": "code",
      "metadata": {
        "id": "9EnXirDVQZVD"
      },
      "source": [
        "# !cp -r joeynmt/joey_pred.txt \"$folder\"\n",
        "# !cp -r joeynmt/in.txt \"$folder\""
      ],
      "execution_count": null,
      "outputs": []
    },
    {
      "cell_type": "code",
      "metadata": {
        "id": "w4rS6fiXJQJ0"
      },
      "source": [
        "# folder = f'{gdrive_path}/data/data_test/TestDatasets/TsimafeiMiddleCorpusTest'\n",
        "# in_file_name = \"MiddleCorpusTestPart_Rus.txt\"\n",
        "# in_filepath = f'{folder}/{in_file_name}'\n",
        "# file_translate(in_filepath)"
      ],
      "execution_count": null,
      "outputs": []
    },
    {
      "cell_type": "code",
      "metadata": {
        "id": "HXADEkXkJdxn"
      },
      "source": [
        "# !cp -r joeynmt/joey_pred.txt \"$folder\"\n",
        "# !cp -r joeynmt/in.txt \"$folder\""
      ],
      "execution_count": null,
      "outputs": []
    }
  ]
}