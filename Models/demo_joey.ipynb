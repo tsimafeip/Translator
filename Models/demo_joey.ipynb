{
  "nbformat": 4,
  "nbformat_minor": 0,
  "metadata": {
    "accelerator": "GPU",
    "colab": {
      "name": "demo_joey.ipynb",
      "provenance": [],
      "collapsed_sections": []
    },
    "kernelspec": {
      "display_name": "Python 3",
      "name": "python3"
    }
  },
  "cells": [
    {
      "cell_type": "code",
      "metadata": {
        "colab": {
          "base_uri": "https://localhost:8080/"
        },
        "id": "pIqLszY09IT9",
        "outputId": "0a37eb26-3744-429c-b6b4-cdf58087157c"
      },
      "source": [
        "# Cell to copy data from Google Storage to the runtime\n",
        "\n",
        "import os\n",
        "\n",
        "if not os.path.isdir(\"/content/Separate Corpuses/FullCorpus/\") or not os.path.isdir(\"/joey_experiments/\"):\n",
        "    !gsutil -m cp -r \"gs://mytranslator-298419-vcm/RuBeCorpus_BelapanNews/Separate Corpuses/FullCorpus/\" .\n",
        "    !gsutil -m cp -r \"gs://mytranslator-298419-vcm/joey_experiments/\" ."
      ],
      "execution_count": null,
      "outputs": [
        {
          "output_type": "stream",
          "text": [
            "Copying gs://mytranslator-298419-vcm/RuBeCorpus_BelapanNews/Separate Corpuses/FullCorpus/Corpus_Bel.txt...\n",
            "/ [0/8 files][    0.0 B/651.5 MiB]   0% Done                                    \rCopying gs://mytranslator-298419-vcm/RuBeCorpus_BelapanNews/Separate Corpuses/FullCorpus/Corpus_Bel.txt_tc.model...\n",
            "/ [0/8 files][    0.0 B/651.5 MiB]   0% Done                                    \rCopying gs://mytranslator-298419-vcm/RuBeCorpus_BelapanNews/Separate Corpuses/FullCorpus/Corpus_Bel.txt_tok.txt...\n",
            "/ [0/8 files][    0.0 B/651.5 MiB]   0% Done                                    \rCopying gs://mytranslator-298419-vcm/RuBeCorpus_BelapanNews/Separate Corpuses/FullCorpus/Corpus_Rus.txt_tok.txt...\n",
            "/ [0/8 files][    0.0 B/651.5 MiB]   0% Done                                    \rCopying gs://mytranslator-298419-vcm/RuBeCorpus_BelapanNews/Separate Corpuses/FullCorpus/Corpus_Rus.txt...\n",
            "/ [0/8 files][    0.0 B/651.5 MiB]   0% Done                                    \rCopying gs://mytranslator-298419-vcm/RuBeCorpus_BelapanNews/Separate Corpuses/FullCorpus/Corpus_Bel.txt_tok.txt_true.txt...\n",
            "/ [0/8 files][    0.0 B/651.5 MiB]   0% Done                                    \rCopying gs://mytranslator-298419-vcm/RuBeCorpus_BelapanNews/Separate Corpuses/FullCorpus/Corpus_Rus.txt_tc.model...\n",
            "Copying gs://mytranslator-298419-vcm/RuBeCorpus_BelapanNews/Separate Corpuses/FullCorpus/Corpus_Rus.txt_tok.txt_true.txt...\n",
            "| [8/8 files][651.5 MiB/651.5 MiB] 100% Done                                    \n",
            "Operation completed over 8 objects/651.5 MiB.                                    \n",
            "Copying gs://mytranslator-298419-vcm/joey_experiments/ru-be-new_full/data/bpe.codes.5000...\n",
            "Copying gs://mytranslator-298419-vcm/joey_experiments/ru-be-new_full/data/vocab.be...\n",
            "Copying gs://mytranslator-298419-vcm/joey_experiments/ru-be-new_full/data_test/belapan_be.txt...\n",
            "Copying gs://mytranslator-298419-vcm/joey_experiments/ru-be-new_full/data/vocab.txt...\n",
            "Copying gs://mytranslator-298419-vcm/joey_experiments/ru-be-new_full/data/vocab.ru...\n",
            "Copying gs://mytranslator-298419-vcm/joey_experiments/ru-be-new_full/data_test/belapan_ru.txt...\n",
            "Copying gs://mytranslator-298419-vcm/joey_experiments/ru-be-new_full/data_test/euroradio_be.txt...\n",
            "Copying gs://mytranslator-298419-vcm/joey_experiments/ru-be-new_full/data_test/euroradio_ru.txt...\n",
            "Copying gs://mytranslator-298419-vcm/joey_experiments/ru-be-new_full/data_test/legal_be.txt...\n",
            "Copying gs://mytranslator-298419-vcm/joey_experiments/ru-be-new_full/data_test/legal_ru.txt...\n",
            "Copying gs://mytranslator-298419-vcm/joey_experiments/ru-be-new_full/data_test/med_sentences_be.txt...\n",
            "Copying gs://mytranslator-298419-vcm/joey_experiments/ru-be-new_full/data_test/med_sentences_ru.txt...\n",
            "Copying gs://mytranslator-298419-vcm/joey_experiments/ru-be-new_full/models/base_best.ckpt...\n",
            "Copying gs://mytranslator-298419-vcm/joey_experiments/ru-be-new_full/models/config.yaml...\n",
            "Copying gs://mytranslator-298419-vcm/joey_experiments/ru-be-new_full/models/config_non_cuda.yaml...\n",
            "Copying gs://mytranslator-298419-vcm/joey_experiments/ru-be-new_full/models/legal_best.ckpt...\n",
            "Copying gs://mytranslator-298419-vcm/joey_experiments/ru-be-new_full/models/medical_best.ckpt...\n"
          ],
          "name": "stdout"
        }
      ]
    },
    {
      "cell_type": "code",
      "metadata": {
        "id": "Cz1REQDJABAD",
        "colab": {
          "base_uri": "https://localhost:8080/"
        },
        "outputId": "8265fa8a-801c-4104-f7d1-9807658f383d"
      },
      "source": [
        "# Helper settings\n",
        "\n",
        "source_language = \"ru\"\n",
        "target_language = \"be\"\n",
        "lang_pair = source_language+target_language\n",
        "tag = \"new_full\"\n",
        "model_type = \"bpe\"\n",
        "\n",
        "use_cuda = True\n",
        "\n",
        "if model_type == \"bpe\":\n",
        "    # Learn BPEs on the training data.\n",
        "    number_of_splits = 5000\n",
        "    os.environ[\"data_path\"] = os.path.join(\"joeynmt\", \"data\", source_language + target_language)\n",
        "    bpe_codes_file = \"bpe.codes.\"+str(number_of_splits)\n",
        "\n",
        "os.environ[\"src\"] = source_language # Sets them in bash as well, since we often use bash scripts\n",
        "os.environ[\"tgt\"] = target_language\n",
        "os.environ[\"lang_pair\"] = lang_pair\n",
        "os.environ[\"tag\"] = tag\n",
        "os.environ[\"model_type\"] = model_type\n",
        "\n",
        "runtime_path = \"/content/joey_experiments/%s-%s-%s\" % (source_language, target_language, tag)\n",
        "os.environ[\"runtime_path\"] = runtime_path\n",
        "!echo $runtime_path\n",
        "\n",
        "raw_source_file = r\"/content/FullCorpus/Corpus_Rus.txt\"\n",
        "raw_target_file = r\"/content/FullCorpus/Corpus_Bel.txt\"\n",
        "\n",
        "source_tc_model = f\"{raw_source_file}_tc.model\"\n",
        "\n",
        "# They should both have the same length.\n",
        "! wc -l \"$raw_source_file\"\n",
        "! wc -l \"$raw_target_file\""
      ],
      "execution_count": null,
      "outputs": [
        {
          "output_type": "stream",
          "text": [
            "/content/joey_experiments/ru-be-new_full\n",
            "429479 /content/FullCorpus/Corpus_Rus.txt\n",
            "429479 /content/FullCorpus/Corpus_Bel.txt\n"
          ],
          "name": "stdout"
        }
      ]
    },
    {
      "cell_type": "code",
      "metadata": {
        "id": "iqdEumRjUuNG"
      },
      "source": [
        "%%capture\n",
        "# installing sacremoses - tokenization library\n",
        "! pip install sacremoses\n",
        "\n",
        "# Install JoeyNMT\n",
        "! git clone --depth 1 --branch 1.0 https://github.com/joeynmt/joeynmt.git\n",
        "! cd joeynmt; pip3 install ."
      ],
      "execution_count": null,
      "outputs": []
    },
    {
      "cell_type": "code",
      "metadata": {
        "colab": {
          "base_uri": "https://localhost:8080/"
        },
        "id": "b1GuIR88g3p_",
        "outputId": "5049b11a-2671-4b99-c8cb-18aedb74c364"
      },
      "source": [
        "# testing if joeynmt installed correctly\n",
        "! cd joeynmt; python3 -m unittest"
      ],
      "execution_count": null,
      "outputs": [
        {
          "output_type": "stream",
          "text": [
            "................................s.......................\n",
            "----------------------------------------------------------------------\n",
            "Ran 56 tests in 1.264s\n",
            "\n",
            "OK (skipped=1)\n"
          ],
          "name": "stdout"
        }
      ]
    },
    {
      "cell_type": "code",
      "metadata": {
        "id": "VtUNT_0j1c2u"
      },
      "source": [
        "%%capture\n",
        "# installing cuda\n",
        "if use_cuda:\n",
        "    !wget https://developer.download.nvidia.com/compute/cuda/repos/ubuntu1804/x86_64/cuda-ubuntu1804.pin\n",
        "    !sudo mv cuda-ubuntu1804.pin /etc/apt/preferences.d/cuda-repository-pin-600\n",
        "    !sudo apt-key adv --fetch-keys https://developer.download.nvidia.com/compute/cuda/repos/ubuntu1804/x86_64/7fa2af80.pub\n",
        "    !sudo add-apt-repository \"deb http://developer.download.nvidia.com/compute/cuda/repos/ubuntu1804/x86_64/ /\"\n",
        "    !sudo apt-get update\n",
        "    !sudo apt-get -y install cuda"
      ],
      "execution_count": null,
      "outputs": []
    },
    {
      "cell_type": "code",
      "metadata": {
        "id": "Rzx_OGVZIt4G"
      },
      "source": [
        "# copying data from runtime folder to joeynmt\n",
        "!mkdir -p joeynmt/models/${src}${tgt}_transformer_new/ && cp -r \"$runtime_path\"/models/{config.yaml,config_non_cuda.yaml} joeynmt/models/${src}${tgt}_transformer_new/\n",
        "!mkdir -p joeynmt/data/${src}${tgt}/ && cp -r \"$runtime_path/data/\"* joeynmt/data/${src}${tgt}/\n",
        "!cp -r joeynmt/data/${src}${tgt}/{bpe.codes.5000,vocab.ru} ./"
      ],
      "execution_count": null,
      "outputs": []
    },
    {
      "cell_type": "code",
      "metadata": {
        "id": "Bwk1hogjNFmF"
      },
      "source": [
        "# Functions to test translation quality in two modes: 'interactive' and 'file'.\n",
        "\n",
        "from sacrebleu import corpus_bleu\n",
        "\n",
        "def interactive_translate(text):\n",
        "    os.environ[\"config\"] = \"config.yaml\" if use_cuda else \"config_non_cuda.yaml\"\n",
        "    ! echo \"$text\" | sacremoses tokenize | sacremoses truecase -m \"$source_tc_model\" | subword-nmt apply-bpe -c \"$bpe_codes_file\" --vocabulary vocab.$source_language > \"joeynmt/in.txt\"\n",
        "    ! cd joeynmt; python3 -m joeynmt translate \"$runtime_path/models/$config\" < in.txt 2> /dev/null | sacremoses detruecase 2> /dev/null | sacremoses detokenize 2> /dev/null | sed \"s/ '/'/\" | sed \"s/' /'/\"\n",
        "\n",
        "\n",
        "# use_cuda = true is strongly recommended for file translation!\n",
        "def file_translate(file):\n",
        "    os.environ[\"config\"] = \"config.yaml\" if use_cuda else \"config_non_cuda.yaml\"\n",
        "    ! sed -i 's/\"//g' \"$file\"\n",
        "    ! sacremoses tokenize < \"$file\" | sacremoses truecase -m \"$source_tc_model\" | subword-nmt apply-bpe -c \"$bpe_codes_file\" --vocabulary vocab.$source_language > \"joeynmt/in.txt\"\n",
        "    ! cd joeynmt; python3 -m joeynmt translate \"$runtime_path/models/$config\" < in.txt 2> /dev/null | sacremoses detruecase 2> /dev/null | sacremoses detokenize 2> /dev/null | sed \"s/ '/'/\" | sed \"s/' /'/\" > \"joey_pred.txt\"\n",
        "    outfile = f\"{file}_pred\"\n",
        "    os.rename(os.path.join('joeynmt', 'joey_pred.txt'), outfile)\n",
        "    return outfile\n",
        "\n",
        "\n",
        "def get_bleu(reference_file, prediction_file):\n",
        "    with open(reference_file, 'r', encoding=\"utf-8\") as reference_f, \\\n",
        "            open(prediction_file, 'r', encoding=\"utf-8\") as prediction_f:\n",
        "        real = reference_f.readlines()\n",
        "        prediction = prediction_f.readlines()\n",
        "\n",
        "    return corpus_bleu(prediction, [real]).score"
      ],
      "execution_count": null,
      "outputs": []
    },
    {
      "cell_type": "code",
      "metadata": {
        "colab": {
          "base_uri": "https://localhost:8080/"
        },
        "id": "f--UiR9wvID2",
        "outputId": "ddace48e-a5d0-4759-8561-a39b90239f71"
      },
      "source": [
        "#Running tests for base translation model and two domain adaptations\n",
        "\n",
        "path_to_test_data_folder = '/content/joey_experiments/ru-be-new_full/data_test'\n",
        "\n",
        "for mode in ['base', 'medical', 'legal']:\n",
        "    print(f\"MODE: {mode}.\")\n",
        "    os.environ[\"checkpoint\"] = mode + \"_best.ckpt\"\n",
        "    ! cp -r \"$runtime_path\"/models/\"$checkpoint\" joeynmt/models/${src}${tgt}_transformer_new/\n",
        "\n",
        "    interactive_translate(\"Как объяснили медработники, сделано для того, чтобы защитить стены от возможных ударов каталок.\")\n",
        "    interactive_translate(\"Коллективный договор может иметь приложения, являющиеся его неотъемлемой составной частью.\")\n",
        "    interactive_translate(\"В теплое время года на прилегающей к стационарным объектам территории была организована работа летних кафе.\")\n",
        "\n",
        "    for test_file_prefix in ['med_sentences', 'euroradio', 'belapan', 'legal']:\n",
        "        in_file = os.path.join(path_to_test_data_folder, f\"{test_file_prefix}_ru.txt\")\n",
        "        pred_file = file_translate(in_file)\n",
        "        real_file = os.path.join(path_to_test_data_folder, f\"{test_file_prefix}_be.txt\")\n",
        "        print(f\"{test_file_prefix}: {get_bleu(real_file, pred_file)}.\")\n",
        "    \n",
        "    ! rm joeynmt/models/${src}${tgt}_transformer_new/\"$checkpoint\""
      ],
      "execution_count": null,
      "outputs": [
        {
          "output_type": "stream",
          "text": [
            "MODE: base.\n",
            "Як растлумачылі медработнікі, зроблена для таго, каб абараніць сцены ад магчымых удараў каталок.\n",
            "Калектыўная дагавор можа мець прыкладанні, якія з'яўляюцца яго неад'емнай складнай часткай.\n",
            "У цёплае час года на прылеглай да стацыянарных аб'ектаў тэрыторыі была арганізавана праца летніх кафэ.\n",
            "med_sentences: 70.01743131026568.\n",
            "euroradio: 69.8678115859498.\n",
            "belapan: 75.31419717393905.\n",
            "legal: 73.64540803530869.\n",
            "MODE: medical.\n",
            "Як патлумачылі медработнікі, зроблена для таго, каб абараніць сцены ад магчымых удараў каталок.\n",
            "Калектыўны дамову можа мець прыкладання, якія з'яўляюцца яго неад'емнай складнай часткай.\n",
            "У цеплае час года на прылеглай да стацыянарных аб'ектаў тэрыторыі была арганізавана праца лётных кафе.\n",
            "med_sentences: 83.06449670035552.\n",
            "euroradio: 58.06088338423993.\n",
            "belapan: 58.8655141280291.\n",
            "legal: 60.92894169379268.\n",
            "MODE: legal.\n",
            "Як тлумачылі адработнікі, зроблена для таго, каб абароныць стены ад магчымых удараў каталок\n",
            "Калектыўны дагавор можа мець прыкладання, якія з'яўляюцца яго неаддымальнай складнай часткай\n",
            "У цеплавы час года на прылеглай да стацыянарных аб'ектаў тэрыторыі была арганізавана работа лётных кафе\n",
            "med_sentences: 41.187833014873.\n",
            "euroradio: 34.370105153277734.\n",
            "belapan: 32.56146281930413.\n",
            "legal: 87.26592631533974.\n"
          ],
          "name": "stdout"
        }
      ]
    }
  ]
}