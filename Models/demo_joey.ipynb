{
  "nbformat": 4,
  "nbformat_minor": 0,
  "metadata": {
    "accelerator": "GPU",
    "colab": {
      "name": "demo_joey.ipynb",
      "provenance": [],
      "collapsed_sections": []
    },
    "kernelspec": {
      "display_name": "Python 3",
      "name": "python3"
    }
  },
  "cells": [
    {
      "cell_type": "code",
      "metadata": {
        "id": "pIqLszY09IT9"
      },
      "source": [
        "# Cell to copy data from Google Storage to the runtime\n",
        "%%capture\n",
        "import os\n",
        "\n",
        "if not os.path.isdir(\"/content/Separate Corpuses/FullCorpus/\") or not os.path.isdir(\"/joey_experiments/\"):\n",
        "    !gsutil -m cp -r \"gs://mytranslator-298419-vcm/RuBeCorpus_BelapanNews/Separate Corpuses/FullCorpus/\" .\n",
        "    !gsutil -m cp -r \"gs://mytranslator-298419-vcm/joey_experiments/\" .\n",
        "    !gsutil -m cp -r \"gs://mytranslator-298419-vcm/joeynmt/\" ."
      ],
      "execution_count": 1,
      "outputs": []
    },
    {
      "cell_type": "code",
      "metadata": {
        "id": "Cz1REQDJABAD",
        "colab": {
          "base_uri": "https://localhost:8080/"
        },
        "outputId": "e375c021-89cf-454e-fd8e-260c92f72f7b"
      },
      "source": [
        "# Helper settings\n",
        "\n",
        "source_language = \"ru\"\n",
        "target_language = \"be\"\n",
        "lang_pair = source_language+target_language\n",
        "tag = \"new_full\"\n",
        "model_type = \"bpe\"\n",
        "\n",
        "if model_type == \"bpe\":\n",
        "    # Learn BPEs on the training data.\n",
        "    number_of_splits = 5000\n",
        "    os.environ[\"data_path\"] = os.path.join(\"joeynmt\", \"data\", source_language + target_language)\n",
        "    bpe_codes_file = \"bpe.codes.\"+str(number_of_splits)\n",
        "\n",
        "os.environ[\"src\"] = source_language # Sets them in bash as well, since we often use bash scripts\n",
        "os.environ[\"tgt\"] = target_language\n",
        "os.environ[\"lang_pair\"] = lang_pair\n",
        "os.environ[\"tag\"] = tag\n",
        "os.environ[\"model_type\"] = model_type\n",
        "\n",
        "runtime_path = \"/content/joey_experiments/%s-%s-%s\" % (source_language, target_language, tag)\n",
        "os.environ[\"runtime_path\"] = runtime_path\n",
        "!echo $runtime_path\n",
        "\n",
        "raw_source_file = r\"/content/FullCorpus/Corpus_Rus.txt\"\n",
        "raw_target_file = r\"/content/FullCorpus/Corpus_Bel.txt\"\n",
        "\n",
        "source_tc_model = f\"{raw_source_file}_tc.model\"\n",
        "\n",
        "# They should both have the same length.\n",
        "! wc -l \"$raw_source_file\"\n",
        "! wc -l \"$raw_target_file\""
      ],
      "execution_count": 2,
      "outputs": [
        {
          "output_type": "stream",
          "text": [
            "/content/joey_experiments/ru-be-new_full\n",
            "429479 /content/FullCorpus/Corpus_Rus.txt\n",
            "429479 /content/FullCorpus/Corpus_Bel.txt\n"
          ],
          "name": "stdout"
        }
      ]
    },
    {
      "cell_type": "code",
      "metadata": {
        "id": "iqdEumRjUuNG"
      },
      "source": [
        "%%capture\n",
        "# installing sacremoses - tokenization library\n",
        "! pip install sacremoses\n",
        "! cd joeynmt; pip3 install ."
      ],
      "execution_count": 3,
      "outputs": []
    },
    {
      "cell_type": "code",
      "metadata": {
        "colab": {
          "base_uri": "https://localhost:8080/"
        },
        "id": "b1GuIR88g3p_",
        "outputId": "1f367e7b-947a-41c8-a7d1-78d5c49cd553"
      },
      "source": [
        "# testing if joeynmt installed correctly\n",
        "! cd joeynmt; python3 -m unittest"
      ],
      "execution_count": 4,
      "outputs": [
        {
          "output_type": "stream",
          "text": [
            "......../usr/local/lib/python3.7/dist-packages/torchtext/data/field.py:150: UserWarning: Field class will be retired soon and moved to torchtext.legacy. Please see the most recent release notes for further information.\n",
            "  warnings.warn('{} class will be retired soon and moved to torchtext.legacy. Please see the most recent release notes for further information.'.format(self.__class__.__name__), UserWarning)\n",
            "/usr/local/lib/python3.7/dist-packages/torchtext/data/example.py:78: UserWarning: Example class will be retired soon and moved to torchtext.legacy. Please see the most recent release notes for further information.\n",
            "  warnings.warn('Example class will be retired soon and moved to torchtext.legacy. Please see the most recent release notes for further information.', UserWarning)\n",
            "/usr/local/lib/python3.7/dist-packages/torchtext/data/iterator.py:48: UserWarning: BucketIterator class will be retired soon and moved to torchtext.legacy. Please see the most recent release notes for further information.\n",
            "  warnings.warn('{} class will be retired soon and moved to torchtext.legacy. Please see the most recent release notes for further information.'.format(self.__class__.__name__), UserWarning)\n",
            "/usr/local/lib/python3.7/dist-packages/torchtext/data/batch.py:23: UserWarning: Batch class will be retired soon and moved to torchtext.legacy. Please see the most recent release notes for further information.\n",
            "  warnings.warn('{} class will be retired soon and moved to torchtext.legacy. Please see the most recent release notes for further information.'.format(self.__class__.__name__), UserWarning)\n",
            "........................s.......................\n",
            "----------------------------------------------------------------------\n",
            "Ran 56 tests in 1.009s\n",
            "\n",
            "OK (skipped=1)\n"
          ],
          "name": "stdout"
        }
      ]
    },
    {
      "cell_type": "code",
      "metadata": {
        "id": "VtUNT_0j1c2u"
      },
      "source": [
        "%%capture\n",
        "\n",
        "# Set use cuda to True for file translation\n",
        "use_cuda = True\n",
        "\n",
        "# installing cuda\n",
        "if use_cuda:\n",
        "    !wget https://developer.download.nvidia.com/compute/cuda/repos/ubuntu1804/x86_64/cuda-ubuntu1804.pin\n",
        "    !sudo mv cuda-ubuntu1804.pin /etc/apt/preferences.d/cuda-repository-pin-600\n",
        "    !sudo apt-key adv --fetch-keys https://developer.download.nvidia.com/compute/cuda/repos/ubuntu1804/x86_64/7fa2af80.pub\n",
        "    !sudo add-apt-repository \"deb http://developer.download.nvidia.com/compute/cuda/repos/ubuntu1804/x86_64/ /\"\n",
        "    !sudo apt-get update\n",
        "    !sudo apt-get -y install cuda"
      ],
      "execution_count": 5,
      "outputs": []
    },
    {
      "cell_type": "code",
      "metadata": {
        "id": "Rzx_OGVZIt4G"
      },
      "source": [
        "# copying data from runtime folder to joeynmt\n",
        "!mkdir -p joeynmt/models/${src}${tgt}_transformer_new/ && cp -r \"$runtime_path\"/models/{config.yaml,config_non_cuda.yaml} joeynmt/models/${src}${tgt}_transformer_new/\n",
        "!mkdir -p joeynmt/data/${src}${tgt}/ && cp -r \"$runtime_path/data/\"* joeynmt/data/${src}${tgt}/\n",
        "!cp -r joeynmt/data/${src}${tgt}/{bpe.codes.5000,vocab.ru} ./"
      ],
      "execution_count": 6,
      "outputs": []
    },
    {
      "cell_type": "code",
      "metadata": {
        "id": "Bwk1hogjNFmF"
      },
      "source": [
        "# Functions to test translation quality in two modes: 'interactive' and 'file'.\n",
        "\n",
        "from sacrebleu import corpus_bleu\n",
        "\n",
        "def interactive_translate(text):\n",
        "    os.environ[\"config\"] = \"config.yaml\" if use_cuda else \"config_non_cuda.yaml\"\n",
        "    ! echo \"$text\" | sacremoses tokenize | sacremoses truecase -m \"$source_tc_model\" | subword-nmt apply-bpe -c \"$bpe_codes_file\" --vocabulary vocab.$source_language > \"joeynmt/in.txt\"\n",
        "    ! cd joeynmt; python3 -m joeynmt translate \"$runtime_path/models/$config\" < in.txt 2> /dev/null | sacremoses detruecase 2> /dev/null | sacremoses detokenize 2> /dev/null | sed \"s/ '/'/\" | sed \"s/' /'/\"\n",
        "\n",
        "\n",
        "# use_cuda = true is strongly recommended for file translation!\n",
        "def file_translate(file, mode):\n",
        "    os.environ[\"config\"] = \"config.yaml\" if use_cuda else \"config_non_cuda.yaml\"\n",
        "    ! sed -i 's/\"//g' \"$file\"\n",
        "    ! sacremoses tokenize < \"$file\" | sacremoses truecase -m \"$source_tc_model\" | subword-nmt apply-bpe -c \"$bpe_codes_file\" --vocabulary vocab.$source_language > \"joeynmt/in.txt\"\n",
        "    ! cd joeynmt; python3 -m joeynmt translate \"$runtime_path/models/$config\" < in.txt 2> /dev/null | sacremoses detruecase 2> /dev/null | sacremoses detokenize 2> /dev/null | sed \"s/ '/'/\" | sed \"s/' /'/\" > \"joey_pred.txt\"\n",
        "    outfile = f\"{file}_pred_{mode}\"\n",
        "    os.rename(os.path.join('joeynmt', 'joey_pred.txt'), outfile)\n",
        "    return outfile\n",
        "\n",
        "\n",
        "def get_bleu(reference_file, prediction_file):\n",
        "    with open(reference_file, 'r', encoding=\"utf-8\") as reference_f, \\\n",
        "            open(prediction_file, 'r', encoding=\"utf-8\") as prediction_f:\n",
        "        real = reference_f.readlines()\n",
        "        prediction = prediction_f.readlines()\n",
        "\n",
        "    return corpus_bleu(prediction, [real]).score"
      ],
      "execution_count": 7,
      "outputs": []
    },
    {
      "cell_type": "code",
      "metadata": {
        "id": "bl6TUAzl_9hw",
        "colab": {
          "base_uri": "https://localhost:8080/"
        },
        "outputId": "7767eb35-2870-4d73-8c45-6ae6c0f9df54"
      },
      "source": [
        "#Running interactive tests for base translation model and two domain adaptations\n",
        "\n",
        "for mode in ['base', 'medical', 'legal']:\n",
        "    print(f\"MODE: {mode}.\")\n",
        "    os.environ[\"checkpoint\"] = mode + \"_best.ckpt\"\n",
        "    ! cp -r \"$runtime_path\"/models/\"$checkpoint\" joeynmt/models/${src}${tgt}_transformer_new/\n",
        "\n",
        "    interactive_translate(\"Заболевание относится к группе аутоиммунных, то есть возникает, когда иммунная система, в норме защищающая организм от вредных агентов, например, бактерий и вирусов, ошибочно начинает атаковать здоровые клетки и ткани.\")\n",
        "    interactive_translate(\"Недропользователи и иные лица, обнаружившие минералогические, палеонтологические и иные уникальные геологические материалы или имеющие сведения о них, сообщают об этом в Министерство природных ресурсов и охраны окружающей среды Республики Беларусь или его территориальные органы.\")\n",
        "    \n",
        "    ! rm joeynmt/models/${src}${tgt}_transformer_new/\"$checkpoint\""
      ],
      "execution_count": 8,
      "outputs": [
        {
          "output_type": "stream",
          "text": [
            "MODE: base.\n",
            "Захворванне ставіцца да групы аўтаіммунных, гэта значыць узнікае, калі імунная сістэма, у норме наяўная арганізм ад шкодных агентаў, напрыклад, бактэрый і вірусаў, памылкова пачынае атакаваць здаровыя клеткі і тканіны.\n",
            "Нярокарыстальнікі і іншыя асобы, якія знайшлі мінералагічныя, палеанталагічныя і іншыя унікальныя геалагічныя матэрыялы або маюць звесткі аб іх, паведамляюць пра гэта ў Міністэрства прыродных рэсурсаў і аховы навакольнага асяроддзя Рэспублікі Беларусь або яго тэрытарыяльныя органы.\n",
            "MODE: medical.\n",
            "Захворванне адносіцца да групы аўтаімунных, гэта значыць узнікае, калі імунная сістэма, у норме абараняе арганізм ад шкодных агентаў, напрыклад, бактэрый і вірусаў, памылкова пачынае атакаваць здаровыя клеткі і тканкі.\n",
            "Нярокарыстальнікі і іншыя асобы, якія выяўляюцца мінералагічныя, палеанталагічныя і іншыя ўнікальныя геалагічныя матэрыялы або маюць звесткі пра іх, паведамляюць пра гэта ў Міністэрства прыродных рэсурсаў і аховы навакольнага асяроддзя Рэспублікі Беларусь або яго тэрытарыяльныя органы.\n",
            "MODE: legal.\n",
            "Захворванне адносіцца да групу аўтанімных, то значыць узнікае, калі імунная сістэма, у норме, якая абароняе арганізм ад шкодных агентаў, напрымер, бакці і вірусаў, памылкова пачынае атакоць здаровыя клёты і тыкані\n",
            "Нядрокарыстальнікі і іншыя асобы, якія выявілі мінералагічныя, палеанталагічныя і іншыя ўнікальныя геалагічныя матэрыялы або якія маюць звесткі аб іх, паведамляюць аб гэтым у Міністэрства прыродных рэсурсаў і аховы навакольнага асяроддзя Рэспублікі Беларусь або яго тэрытарыяльныя органы\n"
          ],
          "name": "stdout"
        }
      ]
    },
    {
      "cell_type": "code",
      "metadata": {
        "colab": {
          "base_uri": "https://localhost:8080/"
        },
        "id": "f--UiR9wvID2",
        "outputId": "f5423929-2d65-4315-92f1-edf7070b7b46"
      },
      "source": [
        "#Running file translation tests for base translation model and two domain adaptations\n",
        "\n",
        "path_to_test_data_folder = '/content/joey_experiments/ru-be-new_full/data_test'\n",
        "\n",
        "for mode in ['base', 'medical', 'legal']:\n",
        "    print(f\"MODE: {mode}.\")\n",
        "    os.environ[\"checkpoint\"] = mode + \"_best.ckpt\"\n",
        "    ! cp -r \"$runtime_path\"/models/\"$checkpoint\" joeynmt/models/${src}${tgt}_transformer_new/\n",
        "\n",
        "    for test_file_prefix in ['med_sentences', 'euroradio', 'belapan', 'legal']:\n",
        "        in_file = os.path.join(path_to_test_data_folder, f\"{test_file_prefix}_ru.txt\")\n",
        "        pred_file = file_translate(in_file, mode)\n",
        "        real_file = os.path.join(path_to_test_data_folder, f\"{test_file_prefix}_be.txt\")\n",
        "        print(f\"{test_file_prefix}: {get_bleu(real_file, pred_file)}.\")\n",
        "    \n",
        "    ! rm joeynmt/models/${src}${tgt}_transformer_new/\"$checkpoint\""
      ],
      "execution_count": null,
      "outputs": [
        {
          "output_type": "stream",
          "text": [
            "MODE: base.\n",
            "med_sentences: 70.01743131026568.\n",
            "euroradio: 69.8678115859498.\n",
            "belapan: 75.31419717393905.\n",
            "legal: 73.64540803530869.\n",
            "MODE: medical.\n",
            "med_sentences: 83.06449670035552.\n",
            "euroradio: 58.06088338423993.\n",
            "belapan: 58.8655141280291.\n",
            "legal: 60.92894169379268.\n",
            "MODE: legal.\n",
            "med_sentences: 41.187833014873.\n",
            "euroradio: 34.370105153277734.\n",
            "belapan: 32.56146281930413.\n",
            "legal: 87.26592631533974.\n"
          ],
          "name": "stdout"
        }
      ]
    }
  ]
}